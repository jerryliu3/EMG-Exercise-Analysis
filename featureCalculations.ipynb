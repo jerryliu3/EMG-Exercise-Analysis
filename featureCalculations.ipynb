{
 "cells": [
  {
   "cell_type": "code",
   "execution_count": 330,
   "metadata": {
    "collapsed": true
   },
   "outputs": [],
   "source": [
    "#TODO: ASK DAVID WHAT HE DID ABOUT IMAGINARY NUMBERS IN THE MEAN SPECTRAL ENERGY\n",
    "import math\n",
    "import scipy as sp\n",
    "from scipy.stats import kurtosis, skew\n",
    "import sklearn\n",
    "import numpy as np\n",
    "import pandas as pd\n",
    "from sklearn.ensemble import RandomForestClassifier"
   ]
  },
  {
   "cell_type": "code",
   "execution_count": 304,
   "metadata": {},
   "outputs": [],
   "source": [
    "data = pd.read_csv('Elbowing.txt', sep=\"\\t\", header=None)\n",
    "#data.columns = [\"R_BI\", \"R_TRI\", \"L_BI\", \"L_TRI\", \"R_THI\", \"R_HAM\", \"L_THI\", \"L_HAM\"]\n",
    "elbow = data[0:700]\n",
    "\n",
    "data = pd.read_csv('Frontkicking.txt', sep=\"\\t\", header=None)\n",
    "frontKick = data[0:700]\n",
    "\n",
    "data = pd.read_csv('Hamering.txt', sep=\"\\t\", header=None)\n",
    "hamering = data[0:700]\n",
    "\n",
    "data = pd.read_csv('Headering.txt', sep=\"\\t\", header=None)\n",
    "headering = data[0:700]\n",
    "\n",
    "frames = [elbow, frontKick, hamering, headering]\n",
    "#combined = pd.concat(frames)\n",
    "#np.shape(combined)"
   ]
  },
  {
   "cell_type": "code",
   "execution_count": 305,
   "metadata": {},
   "outputs": [
    {
     "name": "stderr",
     "output_type": "stream",
     "text": [
      "C:\\Users\\andre\\Anaconda3\\lib\\site-packages\\ipykernel_launcher.py:6: SettingWithCopyWarning: \n",
      "A value is trying to be set on a copy of a slice from a DataFrame.\n",
      "Try using .loc[row_indexer,col_indexer] = value instead\n",
      "\n",
      "See the caveats in the documentation: http://pandas.pydata.org/pandas-docs/stable/indexing.html#indexing-view-versus-copy\n",
      "  \n"
     ]
    }
   ],
   "source": [
    "def appendEnergyVector(dataFrame):\n",
    "    #take in the dataFrame, set new columns as a^2 + b^2 for each pair of 2. \n",
    "    energyCols = [8, 9, 10, 11]\n",
    "    i = 0\n",
    "    for col in energyCols:\n",
    "        dataFrame[col] = np.square(dataFrame[i])+np.square(dataFrame[i+1])\n",
    "        i = i+2\n",
    "    return dataFrame\n",
    "\n",
    "elbow = appendEnergyVector(elbow)\n",
    "frontKick = appendEnergyVector(frontKick)\n",
    "hamering = appendEnergyVector(hamering)\n",
    "headering = appendEnergyVector(headering)"
   ]
  },
  {
   "cell_type": "code",
   "execution_count": 306,
   "metadata": {},
   "outputs": [],
   "source": [
    "#Mean crossings\n",
    "def meanCrossing(frame):\n",
    "    centeredFrame = frame - np.mean(frame)\n",
    "    return ((centeredFrame[0][:-1].values * centeredFrame[0][1:].values) < 0).sum()"
   ]
  },
  {
   "cell_type": "code",
   "execution_count": 307,
   "metadata": {},
   "outputs": [],
   "source": [
    "#4 bin histogram: It's actually 4 features. The bins are range/4. Check frequency of each bin for each feature. \n",
    "def fourBin(frame):\n",
    "    allBins = numpy.histogram(frame[0],bins=4)[0][:]\n",
    "    for i in range(1,12):\n",
    "        allBins = np.append(allBins, numpy.histogram(frame[i],bins=4)[0][:])\n",
    "    return allBins"
   ]
  },
  {
   "cell_type": "code",
   "execution_count": 328,
   "metadata": {},
   "outputs": [
    {
     "name": "stdout",
     "output_type": "stream",
     "text": [
      "(4, 156)\n"
     ]
    }
   ],
   "source": [
    "featMean = np.empty([4,12])\n",
    "featVar = np.empty([4,12])\n",
    "featStd = np.empty([4,12])\n",
    "featMin = np.empty([4,12])\n",
    "featMax = np.empty([4,12])\n",
    "featSkew = np.empty([4,12])\n",
    "featKurtosis = np.empty([4,12])\n",
    "featMeanCrossing = np.empty([4,12])\n",
    "featMeanSpectralEnergy = np.empty([4,12], dtype=complex)\n",
    "featFourBin = np.empty([4,48])\n",
    "\n",
    "i=0\n",
    "for frame in frames:\n",
    "    featMean[i][:] = np.mean(frame).values.reshape([1,12])\n",
    "    featVar[i][:] = np.var(frame).values.reshape([1,12])\n",
    "    featStd[i][:] = np.std(frame).values.reshape([1,12])\n",
    "    featMin[i][:] = np.min(frame).values.reshape([1,12])\n",
    "    featMax[i][:] = np.max(frame).values.reshape([1,12])\n",
    "    featSkew[i][:] = skew(frame)\n",
    "    featKurtosis[i][:] = kurtosis(frame)\n",
    "    featMeanCrossing[i][:] = meanCrossing(frame)\n",
    "    featMeanSpectralEnergy[i][:] = np.mean(np.square(np.fft.fft(frame)),0)\n",
    "    featFourBin[i][:] = fourBin(frame)\n",
    "    i = i+1\n",
    "\n",
    "allFeats = featMean\n",
    "features = [featVar, featStd, featMin, featMax, featSkew, featKurtosis, featMeanCrossing, featMeanSpectralEnergy, featFourBin]\n",
    "for feature in features:\n",
    "    allFeats = np.append(allFeats, feature, axis=1)\n",
    "\n",
    "print(np.shape(allFeats)) #4 samples by (12 channels by 13 features) = 4 x 156\n",
    "        "
   ]
  },
  {
   "cell_type": "code",
   "execution_count": 338,
   "metadata": {},
   "outputs": [
    {
     "name": "stderr",
     "output_type": "stream",
     "text": [
      "C:\\Users\\andre\\Anaconda3\\lib\\site-packages\\sklearn\\utils\\validation.py:433: ComplexWarning: Casting complex values to real discards the imaginary part\n",
      "  array = np.array(array, dtype=dtype, order=order, copy=copy)\n",
      "C:\\Users\\andre\\Anaconda3\\lib\\site-packages\\ipykernel_launcher.py:6: DataConversionWarning: A column-vector y was passed when a 1d array was expected. Please change the shape of y to (n_samples,), for example using ravel().\n",
      "  \n"
     ]
    },
    {
     "data": {
      "text/plain": [
       "RandomForestClassifier(bootstrap=True, class_weight=None, criterion='gini',\n",
       "            max_depth=None, max_features='auto', max_leaf_nodes=None,\n",
       "            min_impurity_decrease=0.0, min_impurity_split=None,\n",
       "            min_samples_leaf=1, min_samples_split=2,\n",
       "            min_weight_fraction_leaf=0.0, n_estimators=10, n_jobs=2,\n",
       "            oob_score=False, random_state=0, verbose=0, warm_start=False)"
      ]
     },
     "execution_count": 338,
     "metadata": {},
     "output_type": "execute_result"
    }
   ],
   "source": [
    "#Create and train classifier\n",
    "y = np.reshape([1,2,3,4],[4,1])\n",
    "#Train classifier. \n",
    "clf = RandomForestClassifier(n_jobs=2,random_state=0) #n_jobs to run in parallel. \n",
    "#Random_state is the seed used for the random number generator. \n",
    "clf.fit(allFeats,y)"
   ]
  },
  {
   "cell_type": "code",
   "execution_count": 309,
   "metadata": {},
   "outputs": [],
   "source": [
    "#np.var(elbow)"
   ]
  },
  {
   "cell_type": "code",
   "execution_count": 310,
   "metadata": {},
   "outputs": [],
   "source": [
    "#np.std(elbow)"
   ]
  },
  {
   "cell_type": "code",
   "execution_count": 311,
   "metadata": {},
   "outputs": [],
   "source": [
    "#np.min(elbow)"
   ]
  },
  {
   "cell_type": "code",
   "execution_count": 312,
   "metadata": {},
   "outputs": [],
   "source": [
    "#np.max(elbow)"
   ]
  },
  {
   "cell_type": "code",
   "execution_count": 313,
   "metadata": {},
   "outputs": [],
   "source": [
    "#skew(elbow)"
   ]
  },
  {
   "cell_type": "code",
   "execution_count": 314,
   "metadata": {},
   "outputs": [],
   "source": [
    "#kurtosis(elbow)"
   ]
  },
  {
   "cell_type": "code",
   "execution_count": 316,
   "metadata": {},
   "outputs": [],
   "source": [
    "#Mean crossings\n",
    "#centeredElbow = elbow - means\n",
    "#((centeredElbow[0][:-1].values * centeredElbow[0][1:].values) < 0).sum()\n"
   ]
  },
  {
   "cell_type": "code",
   "execution_count": 317,
   "metadata": {},
   "outputs": [],
   "source": [
    "#Mean spectral energy\n",
    "#fourier = np.fft.fft(elbow)\n",
    "#uSpectralEnergy = np.mean(np.square(fourier),0)\n",
    "#print(uSpectralEnergy)"
   ]
  },
  {
   "cell_type": "code",
   "execution_count": 158,
   "metadata": {
    "collapsed": true
   },
   "outputs": [],
   "source": [
    "#Test classifier by passing in 700 new values from something, getting the features, then predicing. \n"
   ]
  },
  {
   "cell_type": "code",
   "execution_count": null,
   "metadata": {},
   "outputs": [],
   "source": []
  },
  {
   "cell_type": "code",
   "execution_count": null,
   "metadata": {
    "collapsed": true
   },
   "outputs": [],
   "source": []
  }
 ],
 "metadata": {
  "kernelspec": {
   "display_name": "Python 3",
   "language": "python",
   "name": "python3"
  },
  "language_info": {
   "codemirror_mode": {
    "name": "ipython",
    "version": 3
   },
   "file_extension": ".py",
   "mimetype": "text/x-python",
   "name": "python",
   "nbconvert_exporter": "python",
   "pygments_lexer": "ipython3",
   "version": "3.6.3"
  }
 },
 "nbformat": 4,
 "nbformat_minor": 2
}
