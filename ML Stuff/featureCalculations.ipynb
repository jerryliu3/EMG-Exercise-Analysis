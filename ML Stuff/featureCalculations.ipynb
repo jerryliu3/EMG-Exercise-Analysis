{
 "cells": [
  {
   "cell_type": "markdown",
   "metadata": {},
   "source": [
    "# Machine Learning Component\n",
    "\n",
    "<span style=\"color:red\">TODO:</span> Ask David how he dealt with imaginary numbers in mean spectral energy\n",
    "\n",
    "1 -> Import Data </n>\n",
    "2 -> Calculate Features </n>\n",
    "* Mean\n",
    "* Variance\n",
    "* Standard Deviation\n",
    "* Maximum\n",
    "* Minimum\n",
    "* Skewness\n",
    "* Kurtosis\n",
    "* Mean crosings\n",
    "* Mean spectral Energy\n",
    "* 4 Bin Histogram (4 features)\n",
    "\n",
    "3-> Create classifier\n",
    "\n",
    "\n",
    "4 -> Make Testing feature vector\n",
    "\n",
    "5 -> Test classifier\n",
    "\n",
    "6 -> Create confusion matrix\n",
    "\n",
    "Note: This script works if you run all cells in order."
   ]
  },
  {
   "cell_type": "markdown",
   "metadata": {},
   "source": [
    "## Calculate Features"
   ]
  },
  {
   "cell_type": "code",
   "execution_count": 117,
   "metadata": {
    "collapsed": true
   },
   "outputs": [],
   "source": [
    "import math\n",
    "import scipy as sp\n",
    "from scipy.stats import kurtosis, skew\n",
    "import sklearn\n",
    "import numpy as np\n",
    "import pandas as pd"
   ]
  },
  {
   "cell_type": "code",
   "execution_count": 118,
   "metadata": {
    "collapsed": true
   },
   "outputs": [],
   "source": [
    "data = pd.read_csv('Elbowing.txt', sep=\"\\t\", header=None)\n",
    "#data.columns = [\"R_BI\", \"R_TRI\", \"L_BI\", \"L_TRI\", \"R_THI\", \"R_HAM\", \"L_THI\", \"L_HAM\"]\n",
    "elbow = data[0:700]\n",
    "\n",
    "data = pd.read_csv('Frontkicking.txt', sep=\"\\t\", header=None)\n",
    "frontKick = data[0:700]\n",
    "\n",
    "data = pd.read_csv('Hamering.txt', sep=\"\\t\", header=None)\n",
    "hamering = data[0:700]\n",
    "\n",
    "data = pd.read_csv('Headering.txt', sep=\"\\t\", header=None)\n",
    "headering = data[0:700]\n",
    "\n",
    "frames = [elbow, frontKick, hamering, headering]\n",
    "#combined = pd.concat(frames)\n",
    "#np.shape(combined)"
   ]
  },
  {
   "cell_type": "code",
   "execution_count": 119,
   "metadata": {},
   "outputs": [
    {
     "name": "stderr",
     "output_type": "stream",
     "text": [
      "C:\\Users\\andre\\Anaconda3\\lib\\site-packages\\ipykernel_launcher.py:6: SettingWithCopyWarning: \n",
      "A value is trying to be set on a copy of a slice from a DataFrame.\n",
      "Try using .loc[row_indexer,col_indexer] = value instead\n",
      "\n",
      "See the caveats in the documentation: http://pandas.pydata.org/pandas-docs/stable/indexing.html#indexing-view-versus-copy\n",
      "  \n"
     ]
    }
   ],
   "source": [
    "def appendEnergyVector(dataFrame):\n",
    "    #take in the dataFrame, set new columns as a^2 + b^2 for each pair of 2. \n",
    "    energyCols = [8, 9, 10, 11]\n",
    "    i = 0\n",
    "    for col in energyCols:\n",
    "        dataFrame[col] = np.square(dataFrame[i])+np.square(dataFrame[i+1])\n",
    "        i = i+2\n",
    "    return dataFrame\n",
    "\n",
    "elbow = appendEnergyVector(elbow)\n",
    "frontKick = appendEnergyVector(frontKick)\n",
    "hamering = appendEnergyVector(hamering)\n",
    "headering = appendEnergyVector(headering)"
   ]
  },
  {
   "cell_type": "code",
   "execution_count": 120,
   "metadata": {
    "collapsed": true
   },
   "outputs": [],
   "source": [
    "#Mean crossings\n",
    "def meanCrossing(frame):\n",
    "    centeredFrame = frame - np.mean(frame)\n",
    "    return ((centeredFrame[0][:-1].values * centeredFrame[0][1:].values) < 0).sum()"
   ]
  },
  {
   "cell_type": "code",
   "execution_count": 121,
   "metadata": {
    "collapsed": true
   },
   "outputs": [],
   "source": [
    "#4 bin histogram: It's actually 4 features. The bins are range/4. Check frequency of each bin for each feature. \n",
    "def fourBin(frame):\n",
    "    allBins = np.histogram(frame[0],bins=4)[0][:]\n",
    "    for i in range(1,12):\n",
    "        allBins = np.append(allBins, np.histogram(frame[i],bins=4)[0][:])\n",
    "    return allBins"
   ]
  },
  {
   "cell_type": "code",
   "execution_count": 122,
   "metadata": {},
   "outputs": [
    {
     "name": "stdout",
     "output_type": "stream",
     "text": [
      "(4, 156)\n"
     ]
    }
   ],
   "source": [
    "featMean = np.empty([4,12])\n",
    "featVar = np.empty([4,12])\n",
    "featStd = np.empty([4,12])\n",
    "featMin = np.empty([4,12])\n",
    "featMax = np.empty([4,12])\n",
    "featSkew = np.empty([4,12])\n",
    "featKurtosis = np.empty([4,12])\n",
    "featMeanCrossing = np.empty([4,12])\n",
    "featMeanSpectralEnergy = np.empty([4,12], dtype=complex)\n",
    "featFourBin = np.empty([4,48])\n",
    "\n",
    "i=0\n",
    "for frame in frames:\n",
    "    featMean[i][:] = np.mean(frame).values.reshape([1,12])\n",
    "    featVar[i][:] = np.var(frame).values.reshape([1,12])\n",
    "    featStd[i][:] = np.std(frame).values.reshape([1,12])\n",
    "    featMin[i][:] = np.min(frame).values.reshape([1,12])\n",
    "    featMax[i][:] = np.max(frame).values.reshape([1,12])\n",
    "    featSkew[i][:] = skew(frame)\n",
    "    featKurtosis[i][:] = kurtosis(frame)\n",
    "    featMeanCrossing[i][:] = meanCrossing(frame)\n",
    "    featMeanSpectralEnergy[i][:] = np.mean(np.square(np.fft.fft(frame)),0)\n",
    "    featFourBin[i][:] = fourBin(frame)\n",
    "    i = i+1\n",
    "\n",
    "allFeats = featMean\n",
    "features = [featVar, featStd, featMin, featMax, featSkew, featKurtosis, featMeanCrossing, featMeanSpectralEnergy, featFourBin]\n",
    "for feature in features:\n",
    "    allFeats = np.append(allFeats, feature, axis=1)\n",
    "\n",
    "print(np.shape(allFeats)) #4 samples by (12 channels by 13 features) = 4 x 156\n",
    "        "
   ]
  },
  {
   "cell_type": "markdown",
   "metadata": {},
   "source": [
    "## Train classifiers "
   ]
  },
  {
   "cell_type": "code",
   "execution_count": 123,
   "metadata": {
    "collapsed": true
   },
   "outputs": [],
   "source": [
    "from sklearn.ensemble import RandomForestClassifier\n",
    "from sklearn import svm"
   ]
  },
  {
   "cell_type": "code",
   "execution_count": 124,
   "metadata": {},
   "outputs": [
    {
     "name": "stderr",
     "output_type": "stream",
     "text": [
      "C:\\Users\\andre\\Anaconda3\\lib\\site-packages\\sklearn\\utils\\validation.py:433: ComplexWarning: Casting complex values to real discards the imaginary part\n",
      "  array = np.array(array, dtype=dtype, order=order, copy=copy)\n",
      "C:\\Users\\andre\\Anaconda3\\lib\\site-packages\\ipykernel_launcher.py:7: DataConversionWarning: A column-vector y was passed when a 1d array was expected. Please change the shape of y to (n_samples,), for example using ravel().\n",
      "  import sys\n"
     ]
    },
    {
     "data": {
      "text/plain": [
       "RandomForestClassifier(bootstrap=True, class_weight=None, criterion='gini',\n",
       "            max_depth=None, max_features='auto', max_leaf_nodes=None,\n",
       "            min_impurity_decrease=0.0, min_impurity_split=None,\n",
       "            min_samples_leaf=1, min_samples_split=2,\n",
       "            min_weight_fraction_leaf=0.0, n_estimators=10, n_jobs=2,\n",
       "            oob_score=False, random_state=0, verbose=0, warm_start=False)"
      ]
     },
     "execution_count": 124,
     "metadata": {},
     "output_type": "execute_result"
    }
   ],
   "source": [
    "#Random Forest\n",
    "#Create and train classifier\n",
    "y = np.reshape([1,2,3,4],[4,1])\n",
    "#Train classifier. \n",
    "clfRf = RandomForestClassifier(n_jobs=2,random_state=0) #n_jobs to run in parallel. \n",
    "#Random_state is the seed used for the random number generator. \n",
    "clfRf.fit(allFeats,y)"
   ]
  },
  {
   "cell_type": "code",
   "execution_count": 126,
   "metadata": {},
   "outputs": [
    {
     "name": "stderr",
     "output_type": "stream",
     "text": [
      "C:\\Users\\andre\\Anaconda3\\lib\\site-packages\\sklearn\\utils\\validation.py:433: ComplexWarning: Casting complex values to real discards the imaginary part\n",
      "  array = np.array(array, dtype=dtype, order=order, copy=copy)\n",
      "C:\\Users\\andre\\Anaconda3\\lib\\site-packages\\sklearn\\utils\\validation.py:578: DataConversionWarning: A column-vector y was passed when a 1d array was expected. Please change the shape of y to (n_samples, ), for example using ravel().\n",
      "  y = column_or_1d(y, warn=True)\n"
     ]
    },
    {
     "data": {
      "text/plain": [
       "SVC(C=1.0, cache_size=200, class_weight=None, coef0=0.0,\n",
       "  decision_function_shape='ovr', degree=3, gamma='auto', kernel='linear',\n",
       "  max_iter=-1, probability=False, random_state=None, shrinking=True,\n",
       "  tol=0.001, verbose=False)"
      ]
     },
     "execution_count": 126,
     "metadata": {},
     "output_type": "execute_result"
    }
   ],
   "source": [
    "#Support Vector Classifier\n",
    "clfSvc = svm.SVC(kernel='linear')\n",
    "clfSvc.fit(allFeats,y)\n"
   ]
  },
  {
   "cell_type": "markdown",
   "metadata": {},
   "source": [
    "## Make Testing Data"
   ]
  },
  {
   "cell_type": "code",
   "execution_count": 127,
   "metadata": {},
   "outputs": [],
   "source": [
    "indexStart = 700\n",
    "indexStop = 1400\n",
    "\n",
    "data = pd.read_csv('Elbowing.txt', sep=\"\\t\", header=None)\n",
    "#data.columns = [\"R_BI\", \"R_TRI\", \"L_BI\", \"L_TRI\", \"R_THI\", \"R_HAM\", \"L_THI\", \"L_HAM\"]\n",
    "elbow = data[indexStart:indexStop]\n",
    "\n",
    "data = pd.read_csv('Frontkicking.txt', sep=\"\\t\", header=None)\n",
    "frontKick = data[indexStart:indexStop]\n",
    "\n",
    "data = pd.read_csv('Hamering.txt', sep=\"\\t\", header=None)\n",
    "hamering = data[indexStart:indexStop]\n",
    "\n",
    "data = pd.read_csv('Headering.txt', sep=\"\\t\", header=None)\n",
    "headering = data[indexStart:indexStop]\n",
    "\n",
    "frames = [elbow, frontKick, hamering, headering]"
   ]
  },
  {
   "cell_type": "code",
   "execution_count": 128,
   "metadata": {},
   "outputs": [
    {
     "name": "stderr",
     "output_type": "stream",
     "text": [
      "C:\\Users\\andre\\Anaconda3\\lib\\site-packages\\ipykernel_launcher.py:6: SettingWithCopyWarning: \n",
      "A value is trying to be set on a copy of a slice from a DataFrame.\n",
      "Try using .loc[row_indexer,col_indexer] = value instead\n",
      "\n",
      "See the caveats in the documentation: http://pandas.pydata.org/pandas-docs/stable/indexing.html#indexing-view-versus-copy\n",
      "  \n"
     ]
    }
   ],
   "source": [
    "def appendEnergyVector(dataFrame):\n",
    "    #take in the dataFrame, set new columns as a^2 + b^2 for each pair of 2. \n",
    "    energyCols = [8, 9, 10, 11]\n",
    "    i = 0\n",
    "    for col in energyCols:\n",
    "        dataFrame[col] = np.square(dataFrame[i])+np.square(dataFrame[i+1])\n",
    "        i = i+2\n",
    "    return dataFrame\n",
    "\n",
    "elbow = appendEnergyVector(elbow)\n",
    "frontKick = appendEnergyVector(frontKick)\n",
    "hamering = appendEnergyVector(hamering)\n",
    "headering = appendEnergyVector(headering)"
   ]
  },
  {
   "cell_type": "code",
   "execution_count": 129,
   "metadata": {
    "collapsed": true
   },
   "outputs": [],
   "source": [
    "#Build feature vector for testing data\n"
   ]
  },
  {
   "cell_type": "code",
   "execution_count": 130,
   "metadata": {},
   "outputs": [
    {
     "name": "stdout",
     "output_type": "stream",
     "text": [
      "(4, 156)\n"
     ]
    }
   ],
   "source": [
    "featMean = np.empty([4,12])\n",
    "featVar = np.empty([4,12])\n",
    "featStd = np.empty([4,12])\n",
    "featMin = np.empty([4,12])\n",
    "featMax = np.empty([4,12])\n",
    "featSkew = np.empty([4,12])\n",
    "featKurtosis = np.empty([4,12])\n",
    "featMeanCrossing = np.empty([4,12])\n",
    "featMeanSpectralEnergy = np.empty([4,12], dtype=complex)\n",
    "featFourBin = np.empty([4,48])\n",
    "\n",
    "i=0\n",
    "for frame in frames:\n",
    "    featMean[i][:] = np.mean(frame).values.reshape([1,12])\n",
    "    featVar[i][:] = np.var(frame).values.reshape([1,12])\n",
    "    featStd[i][:] = np.std(frame).values.reshape([1,12])\n",
    "    featMin[i][:] = np.min(frame).values.reshape([1,12])\n",
    "    featMax[i][:] = np.max(frame).values.reshape([1,12])\n",
    "    featSkew[i][:] = skew(frame)\n",
    "    featKurtosis[i][:] = kurtosis(frame)\n",
    "    featMeanCrossing[i][:] = meanCrossing(frame)\n",
    "    featMeanSpectralEnergy[i][:] = np.mean(np.square(np.fft.fft(frame)),0)\n",
    "    featFourBin[i][:] = fourBin(frame)\n",
    "    i = i+1\n",
    "\n",
    "allFeats = featMean\n",
    "features = [featVar, featStd, featMin, featMax, featSkew, featKurtosis, featMeanCrossing, featMeanSpectralEnergy, featFourBin]\n",
    "for feature in features:\n",
    "    allFeats = np.append(allFeats, feature, axis=1)\n",
    "\n",
    "print(np.shape(allFeats)) #4 samples by (12 channels by 13 features) = 4 x 156"
   ]
  },
  {
   "cell_type": "markdown",
   "metadata": {},
   "source": [
    "## Test Classifier"
   ]
  },
  {
   "cell_type": "markdown",
   "metadata": {},
   "source": [
    "### Random Forest"
   ]
  },
  {
   "cell_type": "code",
   "execution_count": 131,
   "metadata": {},
   "outputs": [
    {
     "name": "stderr",
     "output_type": "stream",
     "text": [
      "C:\\Users\\andre\\Anaconda3\\lib\\site-packages\\sklearn\\utils\\validation.py:433: ComplexWarning: Casting complex values to real discards the imaginary part\n",
      "  array = np.array(array, dtype=dtype, order=order, copy=copy)\n"
     ]
    },
    {
     "data": {
      "text/plain": [
       "array([1, 2, 3, 4])"
      ]
     },
     "execution_count": 131,
     "metadata": {},
     "output_type": "execute_result"
    }
   ],
   "source": [
    "clfRf.predict(allFeats)"
   ]
  },
  {
   "cell_type": "code",
   "execution_count": 152,
   "metadata": {},
   "outputs": [
    {
     "name": "stderr",
     "output_type": "stream",
     "text": [
      "C:\\Users\\andre\\Anaconda3\\lib\\site-packages\\sklearn\\utils\\validation.py:433: ComplexWarning: Casting complex values to real discards the imaginary part\n",
      "  array = np.array(array, dtype=dtype, order=order, copy=copy)\n"
     ]
    },
    {
     "data": {
      "text/plain": [
       "array([[ 0.3,  0.3,  0.3,  0.1],\n",
       "       [ 0.3,  0.4,  0. ,  0.3],\n",
       "       [ 0.2,  0.2,  0.3,  0.3],\n",
       "       [ 0.1,  0.4,  0. ,  0.5]])"
      ]
     },
     "execution_count": 152,
     "metadata": {},
     "output_type": "execute_result"
    }
   ],
   "source": [
    "clfRf.predict_proba(allFeats)"
   ]
  },
  {
   "cell_type": "code",
   "execution_count": 154,
   "metadata": {},
   "outputs": [
    {
     "name": "stderr",
     "output_type": "stream",
     "text": [
      "C:\\Users\\andre\\Anaconda3\\lib\\site-packages\\sklearn\\utils\\validation.py:433: ComplexWarning: Casting complex values to real discards the imaginary part\n",
      "  array = np.array(array, dtype=dtype, order=order, copy=copy)\n"
     ]
    },
    {
     "data": {
      "text/plain": [
       "1.0"
      ]
     },
     "execution_count": 154,
     "metadata": {},
     "output_type": "execute_result"
    }
   ],
   "source": [
    "y_test = [[1],[2],[3],[4]]\n",
    "clfRf.score(allFeats, y_test)"
   ]
  },
  {
   "cell_type": "code",
   "execution_count": 155,
   "metadata": {},
   "outputs": [
    {
     "data": {
      "text/plain": [
       "[(107, 0.16),\n",
       " (12, 0.10000000000000001),\n",
       " (75, 0.10000000000000001),\n",
       " (76, 0.10000000000000001),\n",
       " (4, 0.059999999999999998),\n",
       " (67, 0.059999999999999998),\n",
       " (130, 0.059999999999999998),\n",
       " (153, 0.059999999999999998),\n",
       " (2, 0.040000000000000001),\n",
       " (45, 0.040000000000000001),\n",
       " (85, 0.040000000000000001),\n",
       " (87, 0.040000000000000001),\n",
       " (104, 0.040000000000000001),\n",
       " (27, 0.033333333333333333),\n",
       " (122, 0.033333333333333333),\n",
       " (151, 0.033333333333333333),\n",
       " (0, 0.0),\n",
       " (1, 0.0),\n",
       " (3, 0.0),\n",
       " (5, 0.0)]"
      ]
     },
     "execution_count": 155,
     "metadata": {},
     "output_type": "execute_result"
    }
   ],
   "source": [
    "featureDf = pd.DataFrame(allFeats)\n",
    "featureDf[0:155].head()\n",
    "importances = list(zip(featureDf[0:155], clf.feature_importances_))\n",
    "importances.sort(key=lambda x: x[1], reverse=True)\n",
    "importances[0:20]"
   ]
  },
  {
   "cell_type": "markdown",
   "metadata": {},
   "source": [
    "### Support Vector Classifier"
   ]
  },
  {
   "cell_type": "code",
   "execution_count": 149,
   "metadata": {},
   "outputs": [
    {
     "name": "stderr",
     "output_type": "stream",
     "text": [
      "C:\\Users\\andre\\Anaconda3\\lib\\site-packages\\sklearn\\utils\\validation.py:433: ComplexWarning: Casting complex values to real discards the imaginary part\n",
      "  array = np.array(array, dtype=dtype, order=order, copy=copy)\n"
     ]
    },
    {
     "data": {
      "text/plain": [
       "array([1, 2, 1, 4])"
      ]
     },
     "execution_count": 149,
     "metadata": {},
     "output_type": "execute_result"
    }
   ],
   "source": [
    "preds = clfSvc.predict(allFeats)\n",
    "preds"
   ]
  },
  {
   "cell_type": "code",
   "execution_count": 150,
   "metadata": {},
   "outputs": [
    {
     "name": "stderr",
     "output_type": "stream",
     "text": [
      "C:\\Users\\andre\\Anaconda3\\lib\\site-packages\\sklearn\\utils\\validation.py:433: ComplexWarning: Casting complex values to real discards the imaginary part\n",
      "  array = np.array(array, dtype=dtype, order=order, copy=copy)\n"
     ]
    },
    {
     "data": {
      "text/plain": [
       "0.75"
      ]
     },
     "execution_count": 150,
     "metadata": {},
     "output_type": "execute_result"
    }
   ],
   "source": [
    "y_test = [[1],[2],[3],[4]]\n",
    "clfSvc.score(allFeats, y_test)"
   ]
  },
  {
   "cell_type": "code",
   "execution_count": null,
   "metadata": {
    "collapsed": true
   },
   "outputs": [],
   "source": []
  },
  {
   "cell_type": "markdown",
   "metadata": {},
   "source": [
    "# Depreciated"
   ]
  },
  {
   "cell_type": "code",
   "execution_count": null,
   "metadata": {
    "collapsed": true
   },
   "outputs": [],
   "source": [
    "#np.var(elbow)"
   ]
  },
  {
   "cell_type": "code",
   "execution_count": null,
   "metadata": {
    "collapsed": true
   },
   "outputs": [],
   "source": [
    "#np.std(elbow)"
   ]
  },
  {
   "cell_type": "code",
   "execution_count": null,
   "metadata": {
    "collapsed": true
   },
   "outputs": [],
   "source": [
    "#np.min(elbow)"
   ]
  },
  {
   "cell_type": "code",
   "execution_count": null,
   "metadata": {
    "collapsed": true
   },
   "outputs": [],
   "source": [
    "#np.max(elbow)"
   ]
  },
  {
   "cell_type": "code",
   "execution_count": null,
   "metadata": {
    "collapsed": true
   },
   "outputs": [],
   "source": [
    "#skew(elbow)"
   ]
  },
  {
   "cell_type": "code",
   "execution_count": null,
   "metadata": {
    "collapsed": true
   },
   "outputs": [],
   "source": [
    "#kurtosis(elbow)"
   ]
  },
  {
   "cell_type": "code",
   "execution_count": null,
   "metadata": {
    "collapsed": true
   },
   "outputs": [],
   "source": [
    "#Mean crossings\n",
    "#centeredElbow = elbow - means\n",
    "#((centeredElbow[0][:-1].values * centeredElbow[0][1:].values) < 0).sum()\n"
   ]
  },
  {
   "cell_type": "code",
   "execution_count": null,
   "metadata": {
    "collapsed": true
   },
   "outputs": [],
   "source": [
    "#Mean spectral energy\n",
    "#fourier = np.fft.fft(elbow)\n",
    "#uSpectralEnergy = np.mean(np.square(fourier),0)\n",
    "#print(uSpectralEnergy)"
   ]
  },
  {
   "cell_type": "code",
   "execution_count": null,
   "metadata": {
    "collapsed": true
   },
   "outputs": [],
   "source": [
    "#Test classifier by passing in 700 new values from something, getting the features, then predicing. \n"
   ]
  }
 ],
 "metadata": {
  "kernelspec": {
   "display_name": "Python 3",
   "language": "python",
   "name": "python3"
  },
  "language_info": {
   "codemirror_mode": {
    "name": "ipython",
    "version": 3
   },
   "file_extension": ".py",
   "mimetype": "text/x-python",
   "name": "python",
   "nbconvert_exporter": "python",
   "pygments_lexer": "ipython3",
   "version": "3.6.3"
  }
 },
 "nbformat": 4,
 "nbformat_minor": 2
}
